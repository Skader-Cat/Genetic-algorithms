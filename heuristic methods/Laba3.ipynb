{
 "cells": [
  {
   "cell_type": "code",
   "execution_count": 40,
   "metadata": {},
   "outputs": [],
   "source": [
    "import numpy as np\n",
    "import matplotlib.pyplot as plt\n",
    "import seaborn as sns\n",
    "\n",
    "def generate_random_vector(N_processors: float, M_tasks: int, T_min: int, T_max: int) -> np.array:\n",
    "    task_vector = np.random.randint(T_min, T_max, (1, M_tasks))\n",
    "    return task_vector\n",
    "\n",
    "def get_user_input(N_processors=None, M_tasks=None):\n",
    "    N_processors, M_tasks = [int(i) for i in input(\"Введите число устройств и количество работ через пробел: \").split(\" \")]\n",
    "    T_min, T_max = [int(i) for i in input (\"Введите через пробел минимальное и максимальное значения для автогенерации: \").split(\" \")]\n",
    "    vector_tasks = generate_random_vector(N_processors, M_tasks, T_min, T_max)\n",
    "    matrix = np.zeros((N_processors, M_tasks))\n",
    "    return (matrix, vector_tasks)\n",
    "\n",
    "def initial_distribution(matrix, vector_tasks):\n",
    "    matrix = np.zeros(matrix.shape)\n",
    "    for i in vector_tasks[0]:\n",
    "        indices = np.random.randint(0, matrix.shape[0])\n",
    "        print(indices, i)\n",
    "        if(len(matrix[indices] < matrix.shape[1])):\n",
    "            matrix[indices][] = i\n",
    "    return matrix\n",
    "\n",
    "def plot_matrix(vector, title=None, ax=None):\n",
    "    if ax is None:\n",
    "        fig, ax = plt.subplots()\n",
    "    sns.heatmap(vector, xticklabels=False, yticklabels=False, annot=True, fmt=\".2f\", cmap='YlGnBu', cbar=False, linewidths=2, ax=ax)\n",
    "    ax.set_title(title)\n",
    "    "
   ]
  },
  {
   "cell_type": "code",
   "execution_count": 18,
   "metadata": {},
   "outputs": [],
   "source": [
    "matrix, vector_tasks = get_user_input()"
   ]
  },
  {
   "cell_type": "code",
   "execution_count": 48,
   "metadata": {},
   "outputs": [
    {
     "name": "stdout",
     "output_type": "stream",
     "text": [
      "[[ 0.  0.  0.  0.  0.  0.  0.]\n",
      " [ 0.  0.  0.  0.  0.  0.  0.]\n",
      " [17. 17.  7.  2.  6.  9.  1.]\n",
      " [17. 17.  7.  2.  6.  9.  1.]] [[17 17  7  2  6  9  1]]\n",
      "[[ 0.  0.  0.  0.  0.  0.  0.]\n",
      " [ 0.  0.  0.  0.  0.  0.  0.]\n",
      " [17. 17.  7.  2.  6.  9.  1.]\n",
      " [17. 17.  7.  2.  6.  9.  1.]]\n",
      "(array([], dtype=int64),)\n"
     ]
    }
   ],
   "source": [
    "print(matrix, vector_tasks)\n",
    "matrix.shape[0]\n",
    "print(matrix)\n",
    "print(np.nonzero(matrix[0]))\n",
    "#inited_matrix = initial_distribution(matrix, vector_tasks)\n",
    "#plot_matrix(inited_matrix)"
   ]
  }
 ],
 "metadata": {
  "kernelspec": {
   "display_name": "heuristic_methods-xX6CdInS-py3.10",
   "language": "python",
   "name": "python3"
  },
  "language_info": {
   "codemirror_mode": {
    "name": "ipython",
    "version": 3
   },
   "file_extension": ".py",
   "mimetype": "text/x-python",
   "name": "python",
   "nbconvert_exporter": "python",
   "pygments_lexer": "ipython3",
   "version": "3.10.12"
  }
 },
 "nbformat": 4,
 "nbformat_minor": 2
}
