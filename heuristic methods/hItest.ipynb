{
 "cells": [
  {
   "cell_type": "code",
   "execution_count": 1,
   "metadata": {},
   "outputs": [],
   "source": [
    "import pandas as pd\n",
    "import numpy as np\n",
    "import matplotlib.pyplot as plt\n",
    "import seaborn as sns\n",
    "import nltk"
   ]
  },
  {
   "cell_type": "code",
   "execution_count": 19,
   "metadata": {},
   "outputs": [],
   "source": [
    "from nltk.tokenize import RegexpTokenizer\n",
    "from nltk.corpus import stopwords\n",
    "import pymorphy2\n",
    "\n",
    "def clean_data(source_test_data: pd.DataFrame, text_field='text') -> pd.DataFrame:\n",
    "    df = source_test_data.copy()\n",
    "    df = df.drop(['Unnamed: 0'], axis=1)\n",
    "    df[text_field] = df[text_field].str.replace(r\"http\\S+\", \"\")\n",
    "    df[text_field] = df[text_field].str.replace(r\"http\", \"\")\n",
    "    df[text_field] = df[text_field].str.replace(r\"@\\S+\", \"\")\n",
    "    df[text_field] = df[text_field].str.replace(r\"[^A-Za-z0-9(),!?@\\'\\`\\\"\\_\\n]\", \" \")\n",
    "    df[text_field] = df[text_field].str.replace(r\"@\", \"at\")\n",
    "    df[text_field] = df[text_field].str.replace(\"\\\"\", \"\")\n",
    "    df[text_field] = df[text_field].str.replace(\"“\", \"\")\n",
    "    df[text_field] = df[text_field].str.replace(\"`\", \"\")\n",
    "    df[text_field] = df[text_field].str.replace(\"”\", \"\")\n",
    "    df[text_field] = df[text_field].str.lower()\n",
    "    return df\n",
    "\n",
    "def prepare_data_for_modeling(source_test_data: pd.DataFrame, text_field='text') -> pd.DataFrame:\n",
    "    df = source_test_data.copy()\n",
    "    df = clean_data(df, text_field)\n",
    "    # Токенизация\n",
    "    tokenizer = RegexpTokenizer(r'\\w+') \n",
    "    df['token'] = df['text'].apply(lambda x: tokenizer.tokenize(x))\n",
    "\n",
    "    # Удаление стоп-слов\n",
    "    stop_words = set(stopwords.words('russian'))\n",
    "    df['token'] = df['token'].apply(lambda x: [word for word in x if word not in stop_words])\n",
    "\n",
    "    # Лемматизация\n",
    "    morph = pymorphy2.MorphAnalyzer()\n",
    "\n",
    "    def lemmatize_text(tokens):\n",
    "        return [morph.parse(token)[0].normal_form for token in tokens]\n",
    "    \n",
    "    df['lemmatized'] = df['token'].apply(lemmatize_text)\n",
    "    return df"
   ]
  },
  {
   "cell_type": "code",
   "execution_count": 3,
   "metadata": {},
   "outputs": [
    {
     "data": {
      "text/html": [
       "<div>\n",
       "<style scoped>\n",
       "    .dataframe tbody tr th:only-of-type {\n",
       "        vertical-align: middle;\n",
       "    }\n",
       "\n",
       "    .dataframe tbody tr th {\n",
       "        vertical-align: top;\n",
       "    }\n",
       "\n",
       "    .dataframe thead th {\n",
       "        text-align: right;\n",
       "    }\n",
       "</style>\n",
       "<table border=\"1\" class=\"dataframe\">\n",
       "  <thead>\n",
       "    <tr style=\"text-align: right;\">\n",
       "      <th></th>\n",
       "      <th>Unnamed: 0</th>\n",
       "      <th>text</th>\n",
       "      <th>label</th>\n",
       "    </tr>\n",
       "  </thead>\n",
       "  <tbody>\n",
       "    <tr>\n",
       "      <th>0</th>\n",
       "      <td>0</td>\n",
       "      <td>\"Как оплатить штрафы через ваш банк?\"</td>\n",
       "      <td>1</td>\n",
       "    </tr>\n",
       "    <tr>\n",
       "      <th>1</th>\n",
       "      <td>1</td>\n",
       "      <td>Хочу взять автокредит. Какие документы необход...</td>\n",
       "      <td>4</td>\n",
       "    </tr>\n",
       "    <tr>\n",
       "      <th>2</th>\n",
       "      <td>2</td>\n",
       "      <td>“Как избежать комиссии при снятии наличных за ...</td>\n",
       "      <td>3</td>\n",
       "    </tr>\n",
       "    <tr>\n",
       "      <th>3</th>\n",
       "      <td>3</td>\n",
       "      <td>Хочу оформить ипотеку. Какие условия?</td>\n",
       "      <td>4</td>\n",
       "    </tr>\n",
       "    <tr>\n",
       "      <th>4</th>\n",
       "      <td>4</td>\n",
       "      <td>“Увеличится ли кредитный лимит. если я не допу...</td>\n",
       "      <td>2</td>\n",
       "    </tr>\n",
       "  </tbody>\n",
       "</table>\n",
       "</div>"
      ],
      "text/plain": [
       "   Unnamed: 0                                               text  label\n",
       "0           0              \"Как оплатить штрафы через ваш банк?\"      1\n",
       "1           1  Хочу взять автокредит. Какие документы необход...      4\n",
       "2           2  “Как избежать комиссии при снятии наличных за ...      3\n",
       "3           3              Хочу оформить ипотеку. Какие условия?      4\n",
       "4           4  “Увеличится ли кредитный лимит. если я не допу...      2"
      ]
     },
     "execution_count": 3,
     "metadata": {},
     "output_type": "execute_result"
    }
   ],
   "source": [
    "source_test_data = pd.read_csv('../data/test_data.csv')\n",
    "source_test_data.head()"
   ]
  },
  {
   "cell_type": "markdown",
   "metadata": {},
   "source": [
    "Посмотрим основные параметры датасета: размерность, наличие пропусков в данных.\n",
    "Заметим, что в данных нету пропусков, но есть лишний столбец."
   ]
  },
  {
   "cell_type": "code",
   "execution_count": 4,
   "metadata": {},
   "outputs": [
    {
     "name": "stdout",
     "output_type": "stream",
     "text": [
      "<class 'pandas.core.frame.DataFrame'>\n",
      "RangeIndex: 197 entries, 0 to 196\n",
      "Data columns (total 3 columns):\n",
      " #   Column      Non-Null Count  Dtype \n",
      "---  ------      --------------  ----- \n",
      " 0   Unnamed: 0  197 non-null    int64 \n",
      " 1   text        197 non-null    object\n",
      " 2   label       197 non-null    int64 \n",
      "dtypes: int64(2), object(1)\n",
      "memory usage: 4.7+ KB\n"
     ]
    },
    {
     "data": {
      "text/plain": [
       "Unnamed: 0    0\n",
       "text          0\n",
       "label         0\n",
       "dtype: int64"
      ]
     },
     "execution_count": 4,
     "metadata": {},
     "output_type": "execute_result"
    }
   ],
   "source": [
    "source_test_data.info()\n",
    "source_test_data.describe()\n",
    "source_test_data.isnull().sum()"
   ]
  },
  {
   "cell_type": "markdown",
   "metadata": {},
   "source": [
    "Посчитаем количество выражений в каждом классе, заметим, что распределены они примерно поровну"
   ]
  },
  {
   "cell_type": "code",
   "execution_count": 5,
   "metadata": {},
   "outputs": [
    {
     "data": {
      "image/png": "[encoded data removed]",
      "text/plain": [
       "<Figure size 640x480 with 1 Axes>"
      ]
     },
     "metadata": {},
     "output_type": "display_data"
    }
   ],
   "source": [
    "source_test_data['label'].value_counts().plot.pie(autopct=\"%.1f%%\")\n",
    "plt.show()"
   ]
  },
  {
   "cell_type": "markdown",
   "metadata": {},
   "source": [
    "### Предобработка данных (тестирование методов предобработки, далее они все будут вынесены в общую функцию prepare_data_for_modelling)"
   ]
  },
  {
   "cell_type": "markdown",
   "metadata": {},
   "source": [
    "Очистим данные от лишних символов. Посмотрев небольшую выборку данных, заметим, что есть предложения, в которых основная мысль идёт до точки, а после идёт уточняющий вопрос. \"Например: хочу оформить ипотеку. какие условия?\"\n",
    "Имеет смысл разбить предложения на части, где дополнительные вопросы после точки относить в 5 категорию."
   ]
  },
  {
   "cell_type": "code",
   "execution_count": 6,
   "metadata": {},
   "outputs": [
    {
     "data": {
      "text/html": [
       "<div>\n",
       "<style scoped>\n",
       "    .dataframe tbody tr th:only-of-type {\n",
       "        vertical-align: middle;\n",
       "    }\n",
       "\n",
       "    .dataframe tbody tr th {\n",
       "        vertical-align: top;\n",
       "    }\n",
       "\n",
       "    .dataframe thead th {\n",
       "        text-align: right;\n",
       "    }\n",
       "</style>\n",
       "<table border=\"1\" class=\"dataframe\">\n",
       "  <thead>\n",
       "    <tr style=\"text-align: right;\">\n",
       "      <th></th>\n",
       "      <th>text</th>\n",
       "      <th>label</th>\n",
       "    </tr>\n",
       "  </thead>\n",
       "  <tbody>\n",
       "    <tr>\n",
       "      <th>0</th>\n",
       "      <td>как оплатить штрафы через ваш банк?</td>\n",
       "      <td>1</td>\n",
       "    </tr>\n",
       "    <tr>\n",
       "      <th>1</th>\n",
       "      <td>хочу взять автокредит. какие документы необход...</td>\n",
       "      <td>4</td>\n",
       "    </tr>\n",
       "    <tr>\n",
       "      <th>2</th>\n",
       "      <td>как избежать комиссии при снятии наличных за г...</td>\n",
       "      <td>3</td>\n",
       "    </tr>\n",
       "    <tr>\n",
       "      <th>3</th>\n",
       "      <td>хочу оформить ипотеку. какие условия?</td>\n",
       "      <td>4</td>\n",
       "    </tr>\n",
       "    <tr>\n",
       "      <th>4</th>\n",
       "      <td>увеличится ли кредитный лимит. если я не допущ...</td>\n",
       "      <td>2</td>\n",
       "    </tr>\n",
       "  </tbody>\n",
       "</table>\n",
       "</div>"
      ],
      "text/plain": [
       "                                                text  label\n",
       "0                как оплатить штрафы через ваш банк?      1\n",
       "1  хочу взять автокредит. какие документы необход...      4\n",
       "2  как избежать комиссии при снятии наличных за г...      3\n",
       "3              хочу оформить ипотеку. какие условия?      4\n",
       "4  увеличится ли кредитный лимит. если я не допущ...      2"
      ]
     },
     "execution_count": 6,
     "metadata": {},
     "output_type": "execute_result"
    }
   ],
   "source": [
    "cleaned_data = clean_data(source_test_data)\n",
    "cleaned_data.head()"
   ]
  },
  {
   "cell_type": "markdown",
   "metadata": {},
   "source": [
    "Проведём токенизацию текста"
   ]
  },
  {
   "cell_type": "code",
   "execution_count": 7,
   "metadata": {},
   "outputs": [
    {
     "data": {
      "text/html": [
       "<div>\n",
       "<style scoped>\n",
       "    .dataframe tbody tr th:only-of-type {\n",
       "        vertical-align: middle;\n",
       "    }\n",
       "\n",
       "    .dataframe tbody tr th {\n",
       "        vertical-align: top;\n",
       "    }\n",
       "\n",
       "    .dataframe thead th {\n",
       "        text-align: right;\n",
       "    }\n",
       "</style>\n",
       "<table border=\"1\" class=\"dataframe\">\n",
       "  <thead>\n",
       "    <tr style=\"text-align: right;\">\n",
       "      <th></th>\n",
       "      <th>text</th>\n",
       "      <th>label</th>\n",
       "      <th>tokens</th>\n",
       "    </tr>\n",
       "  </thead>\n",
       "  <tbody>\n",
       "    <tr>\n",
       "      <th>0</th>\n",
       "      <td>как оплатить штрафы через ваш банк?</td>\n",
       "      <td>1</td>\n",
       "      <td>[как, оплатить, штрафы, через, ваш, банк]</td>\n",
       "    </tr>\n",
       "    <tr>\n",
       "      <th>1</th>\n",
       "      <td>хочу взять автокредит. какие документы необход...</td>\n",
       "      <td>4</td>\n",
       "      <td>[хочу, взять, автокредит, какие, документы, не...</td>\n",
       "    </tr>\n",
       "    <tr>\n",
       "      <th>2</th>\n",
       "      <td>как избежать комиссии при снятии наличных за г...</td>\n",
       "      <td>3</td>\n",
       "      <td>[как, избежать, комиссии, при, снятии, наличны...</td>\n",
       "    </tr>\n",
       "    <tr>\n",
       "      <th>3</th>\n",
       "      <td>хочу оформить ипотеку. какие условия?</td>\n",
       "      <td>4</td>\n",
       "      <td>[хочу, оформить, ипотеку, какие, условия]</td>\n",
       "    </tr>\n",
       "    <tr>\n",
       "      <th>4</th>\n",
       "      <td>увеличится ли кредитный лимит. если я не допущ...</td>\n",
       "      <td>2</td>\n",
       "      <td>[увеличится, ли, кредитный, лимит, если, я, не...</td>\n",
       "    </tr>\n",
       "  </tbody>\n",
       "</table>\n",
       "</div>"
      ],
      "text/plain": [
       "                                                text  label  \\\n",
       "0                как оплатить штрафы через ваш банк?      1   \n",
       "1  хочу взять автокредит. какие документы необход...      4   \n",
       "2  как избежать комиссии при снятии наличных за г...      3   \n",
       "3              хочу оформить ипотеку. какие условия?      4   \n",
       "4  увеличится ли кредитный лимит. если я не допущ...      2   \n",
       "\n",
       "                                              tokens  \n",
       "0          [как, оплатить, штрафы, через, ваш, банк]  \n",
       "1  [хочу, взять, автокредит, какие, документы, не...  \n",
       "2  [как, избежать, комиссии, при, снятии, наличны...  \n",
       "3          [хочу, оформить, ипотеку, какие, условия]  \n",
       "4  [увеличится, ли, кредитный, лимит, если, я, не...  "
      ]
     },
     "execution_count": 7,
     "metadata": {},
     "output_type": "execute_result"
    }
   ],
   "source": [
    "from nltk.tokenize import RegexpTokenizer\n",
    "\n",
    "tokenizer = RegexpTokenizer(r'\\w+')\n",
    "\n",
    "cleaned_data[\"tokens\"] = cleaned_data[\"text\"].apply(tokenizer.tokenize)\n",
    "cleaned_data.head()"
   ]
  },
  {
   "cell_type": "markdown",
   "metadata": {},
   "source": [
    "Очистим токены от стоп-слов"
   ]
  },
  {
   "cell_type": "code",
   "execution_count": 8,
   "metadata": {},
   "outputs": [
    {
     "name": "stderr",
     "output_type": "stream",
     "text": [
      "[nltk_data] Downloading package stopwords to /root/nltk_data...\n",
      "[nltk_data]   Package stopwords is already up-to-date!\n"
     ]
    },
    {
     "data": {
      "text/plain": [
       "True"
      ]
     },
     "execution_count": 8,
     "metadata": {},
     "output_type": "execute_result"
    }
   ],
   "source": [
    "nltk.download('stopwords')"
   ]
  },
  {
   "cell_type": "code",
   "execution_count": 9,
   "metadata": {},
   "outputs": [
    {
     "data": {
      "text/html": [
       "<div>\n",
       "<style scoped>\n",
       "    .dataframe tbody tr th:only-of-type {\n",
       "        vertical-align: middle;\n",
       "    }\n",
       "\n",
       "    .dataframe tbody tr th {\n",
       "        vertical-align: top;\n",
       "    }\n",
       "\n",
       "    .dataframe thead th {\n",
       "        text-align: right;\n",
       "    }\n",
       "</style>\n",
       "<table border=\"1\" class=\"dataframe\">\n",
       "  <thead>\n",
       "    <tr style=\"text-align: right;\">\n",
       "      <th></th>\n",
       "      <th>text</th>\n",
       "      <th>label</th>\n",
       "      <th>tokens</th>\n",
       "    </tr>\n",
       "  </thead>\n",
       "  <tbody>\n",
       "    <tr>\n",
       "      <th>0</th>\n",
       "      <td>как оплатить штрафы через ваш банк?</td>\n",
       "      <td>1</td>\n",
       "      <td>[оплатить, штрафы, ваш, банк]</td>\n",
       "    </tr>\n",
       "    <tr>\n",
       "      <th>1</th>\n",
       "      <td>хочу взять автокредит. какие документы необход...</td>\n",
       "      <td>4</td>\n",
       "      <td>[хочу, взять, автокредит, какие, документы, не...</td>\n",
       "    </tr>\n",
       "    <tr>\n",
       "      <th>2</th>\n",
       "      <td>как избежать комиссии при снятии наличных за г...</td>\n",
       "      <td>3</td>\n",
       "      <td>[избежать, комиссии, снятии, наличных, границей]</td>\n",
       "    </tr>\n",
       "    <tr>\n",
       "      <th>3</th>\n",
       "      <td>хочу оформить ипотеку. какие условия?</td>\n",
       "      <td>4</td>\n",
       "      <td>[хочу, оформить, ипотеку, какие, условия]</td>\n",
       "    </tr>\n",
       "    <tr>\n",
       "      <th>4</th>\n",
       "      <td>увеличится ли кредитный лимит. если я не допущ...</td>\n",
       "      <td>2</td>\n",
       "      <td>[увеличится, кредитный, лимит, допущу, просроч...</td>\n",
       "    </tr>\n",
       "  </tbody>\n",
       "</table>\n",
       "</div>"
      ],
      "text/plain": [
       "                                                text  label  \\\n",
       "0                как оплатить штрафы через ваш банк?      1   \n",
       "1  хочу взять автокредит. какие документы необход...      4   \n",
       "2  как избежать комиссии при снятии наличных за г...      3   \n",
       "3              хочу оформить ипотеку. какие условия?      4   \n",
       "4  увеличится ли кредитный лимит. если я не допущ...      2   \n",
       "\n",
       "                                              tokens  \n",
       "0                      [оплатить, штрафы, ваш, банк]  \n",
       "1  [хочу, взять, автокредит, какие, документы, не...  \n",
       "2   [избежать, комиссии, снятии, наличных, границей]  \n",
       "3          [хочу, оформить, ипотеку, какие, условия]  \n",
       "4  [увеличится, кредитный, лимит, допущу, просроч...  "
      ]
     },
     "execution_count": 9,
     "metadata": {},
     "output_type": "execute_result"
    }
   ],
   "source": [
    "from nltk.corpus import stopwords\n",
    "\n",
    "stop_words = set(stopwords.words('russian'))\n",
    "cleaned_data['tokens'] = cleaned_data['tokens'].apply(lambda x: [item for item in x if item not in stop_words])\n",
    "cleaned_data.head()"
   ]
  },
  {
   "cell_type": "markdown",
   "metadata": {},
   "source": [
    "Так как объем данных небольшой, то имеется возможность провести лемматизацию текста. Используем pymorphy2 вместо nltk, так как nltk не поддерживает русского языка для лемматизации"
   ]
  },
  {
   "cell_type": "code",
   "execution_count": 10,
   "metadata": {},
   "outputs": [
    {
     "data": {
      "text/html": [
       "<div>\n",
       "<style scoped>\n",
       "    .dataframe tbody tr th:only-of-type {\n",
       "        vertical-align: middle;\n",
       "    }\n",
       "\n",
       "    .dataframe tbody tr th {\n",
       "        vertical-align: top;\n",
       "    }\n",
       "\n",
       "    .dataframe thead th {\n",
       "        text-align: right;\n",
       "    }\n",
       "</style>\n",
       "<table border=\"1\" class=\"dataframe\">\n",
       "  <thead>\n",
       "    <tr style=\"text-align: right;\">\n",
       "      <th></th>\n",
       "      <th>text</th>\n",
       "      <th>label</th>\n",
       "      <th>tokens</th>\n",
       "      <th>lemmatized_tokens</th>\n",
       "    </tr>\n",
       "  </thead>\n",
       "  <tbody>\n",
       "    <tr>\n",
       "      <th>0</th>\n",
       "      <td>как оплатить штрафы через ваш банк?</td>\n",
       "      <td>1</td>\n",
       "      <td>[оплатить, штрафы, ваш, банк]</td>\n",
       "      <td>[оплатить, штраф, ваш, банк]</td>\n",
       "    </tr>\n",
       "    <tr>\n",
       "      <th>1</th>\n",
       "      <td>хочу взять автокредит. какие документы необход...</td>\n",
       "      <td>4</td>\n",
       "      <td>[хочу, взять, автокредит, какие, документы, не...</td>\n",
       "      <td>[хотеть, взять, автокредит, какой, документ, н...</td>\n",
       "    </tr>\n",
       "    <tr>\n",
       "      <th>2</th>\n",
       "      <td>как избежать комиссии при снятии наличных за г...</td>\n",
       "      <td>3</td>\n",
       "      <td>[избежать, комиссии, снятии, наличных, границей]</td>\n",
       "      <td>[избежать, комиссия, снятие, наличный, граница]</td>\n",
       "    </tr>\n",
       "    <tr>\n",
       "      <th>3</th>\n",
       "      <td>хочу оформить ипотеку. какие условия?</td>\n",
       "      <td>4</td>\n",
       "      <td>[хочу, оформить, ипотеку, какие, условия]</td>\n",
       "      <td>[хотеть, оформить, ипотека, какой, условие]</td>\n",
       "    </tr>\n",
       "    <tr>\n",
       "      <th>4</th>\n",
       "      <td>увеличится ли кредитный лимит. если я не допущ...</td>\n",
       "      <td>2</td>\n",
       "      <td>[увеличится, кредитный, лимит, допущу, просроч...</td>\n",
       "      <td>[увеличиться, кредитный, лимит, допустить, про...</td>\n",
       "    </tr>\n",
       "  </tbody>\n",
       "</table>\n",
       "</div>"
      ],
      "text/plain": [
       "                                                text  label  \\\n",
       "0                как оплатить штрафы через ваш банк?      1   \n",
       "1  хочу взять автокредит. какие документы необход...      4   \n",
       "2  как избежать комиссии при снятии наличных за г...      3   \n",
       "3              хочу оформить ипотеку. какие условия?      4   \n",
       "4  увеличится ли кредитный лимит. если я не допущ...      2   \n",
       "\n",
       "                                              tokens  \\\n",
       "0                      [оплатить, штрафы, ваш, банк]   \n",
       "1  [хочу, взять, автокредит, какие, документы, не...   \n",
       "2   [избежать, комиссии, снятии, наличных, границей]   \n",
       "3          [хочу, оформить, ипотеку, какие, условия]   \n",
       "4  [увеличится, кредитный, лимит, допущу, просроч...   \n",
       "\n",
       "                                   lemmatized_tokens  \n",
       "0                       [оплатить, штраф, ваш, банк]  \n",
       "1  [хотеть, взять, автокредит, какой, документ, н...  \n",
       "2    [избежать, комиссия, снятие, наличный, граница]  \n",
       "3        [хотеть, оформить, ипотека, какой, условие]  \n",
       "4  [увеличиться, кредитный, лимит, допустить, про...  "
      ]
     },
     "execution_count": 10,
     "metadata": {},
     "output_type": "execute_result"
    }
   ],
   "source": [
    "import pymorphy2\n",
    "\n",
    "full_prepared_data = cleaned_data.copy()\n",
    "\n",
    "morph = pymorphy2.MorphAnalyzer()\n",
    "\n",
    "def lemmatize_text(tokens):\n",
    "    return [morph.parse(token)[0].normal_form for token in tokens]\n",
    "\n",
    "full_prepared_data[\"lemmatized_tokens\"] = full_prepared_data[\"tokens\"].apply(lemmatize_text)\n",
    "full_prepared_data.head()"
   ]
  },
  {
   "cell_type": "markdown",
   "metadata": {},
   "source": [
    "### Используемые модели"
   ]
  },
  {
   "cell_type": "code",
   "execution_count": 53,
   "metadata": {},
   "outputs": [],
   "source": [
    "from sklearn.naive_bayes import MultinomialNB\n",
    "from sklearn.metrics import classification_report, confusion_matrix\n",
    "from sklearn.metrics import f1_score\n",
    "\n",
    "def plot_confusion_matrix(y_test, y_pred):\n",
    "    plt.figure(figsize=(8, 6))\n",
    "    sns.heatmap(confusion_matrix(y_test, y_pred), annot=True, fmt='d')\n",
    "    plt.show()\n",
    "\n",
    "def MultinomialNB_Model(X_train, X_test, y_train, y_test):\n",
    "    from sklearn.naive_bayes import MultinomialNB\n",
    "    clf = MultinomialNB()\n",
    "    clf.fit(X_train, y_train)\n",
    "\n",
    "    y_pred = clf.predict(X_test)\n",
    "\n",
    "    print(\"MultinomialNB\", classification_report(y_test, y_pred))\n",
    "    print(\"F1 Score: \", f1_score(y_test, y_pred, average='macro'))\n",
    "    plot_confusion_matrix(y_test, y_pred)\n",
    "    return clf\n",
    "\n",
    "def LogisticRegression_Model(X_train, X_test, y_train, y_test):\n",
    "    from sklearn.linear_model import LogisticRegression\n",
    "    clf = LogisticRegression()\n",
    "    clf.fit(X_train, y_train)\n",
    "\n",
    "    y_pred = clf.predict(X_test)\n",
    "\n",
    "    print(\"LogisticRegression\", classification_report(y_test, y_pred))\n",
    "    print(\"F1 Score: \", f1_score(y_test, y_pred, average='macro'))\n",
    "    plot_confusion_matrix(y_test, y_pred)\n",
    "    return clf\n",
    "\n",
    "def ExtraTreesClassifier_Model(X_train, X_test, y_train, y_test):\n",
    "    from sklearn.ensemble import ExtraTreesClassifier\n",
    "    clf = ExtraTreesClassifier()\n",
    "    clf.fit(X_train, y_train)\n",
    "\n",
    "    y_pred = clf.predict(X_test)\n",
    "\n",
    "    print(\"ExtraTreesClassifier\", classification_report(y_test, y_pred))\n",
    "    print(\"F1 Score: \", f1_score(y_test, y_pred, average=\"macro\"))\n",
    "    plot_confusion_matrix(y_test, y_pred)\n",
    "    return clf\n",
    "\n",
    "def RandomForestClassifier_Model(X_train, X_test, y_train, y_test):\n",
    "    from sklearn.ensemble import RandomForestClassifier\n",
    "    clf = RandomForestClassifier()\n",
    "    clf.fit(X_train, y_train)\n",
    "\n",
    "    y_pred = clf.predict(X_test)\n",
    "\n",
    "    print(\"RandomForestClassifier\", classification_report(y_test, y_pred))\n",
    "    print(\"F1 Score: \", f1_score(y_test, y_pred, average=\"macro\"))\n",
    "    plot_confusion_matrix(y_test, y_pred)\n",
    "    return clf\n",
    "\n",
    "def Kmeans_Model(X_train, X_test, y_train, y_test):\n",
    "    from sklearn.cluster import KMeans\n",
    "    clf = KMeans(n_clusters=2)\n",
    "    clf.fit(X_train, y_train)\n",
    "\n",
    "    y_pred = clf.predict(X_test)\n",
    "\n",
    "    print(\"KMeans\", classification_report(y_test, y_pred))\n",
    "    print(\"F1 Score: \", f1_score(y_test, y_pred, average=\"macro\"))\n",
    "    plot_confusion_matrix(y_test, y_pred)\n",
    "    return clf"
   ]
  },
  {
   "cell_type": "markdown",
   "metadata": {},
   "source": [
    "### TFIDF"
   ]
  },
  {
   "cell_type": "code",
   "execution_count": 32,
   "metadata": {},
   "outputs": [
    {
     "data": {
      "text/plain": [
       "[('адрес', 0.46910100308184094),\n",
       " ('доставка', 0.46910100308184094),\n",
       " ('заказ', 0.43367760496822727),\n",
       " ('изменить', 0.373120905914967),\n",
       " ('сайт', 0.373120905914967),\n",
       " ('оплатить', 0.30557128775889975),\n",
       " ('000', 0.0),\n",
       " ('10', 0.0),\n",
       " ('sms', 0.0),\n",
       " ('автокредит', 0.0)]"
      ]
     },
     "execution_count": 32,
     "metadata": {},
     "output_type": "execute_result"
    }
   ],
   "source": [
    "from sklearn.feature_extraction.text import TfidfVectorizer\n",
    "from sklearn.model_selection import train_test_split\n",
    "\n",
    "X = full_prepared_data['lemmatized_tokens'].apply(lambda x: ' '.join(x))\n",
    "y = full_prepared_data['label']\n",
    "\n",
    "X_train, X_test, y_train, y_test = train_test_split(X, y, test_size=0.2, random_state=42)\n",
    "\n",
    "vectorizer = TfidfVectorizer()\n",
    "\n",
    "\n",
    "X_train = vectorizer.fit_transform(X_train)\n",
    "X_test = vectorizer.transform(X_test)\n",
    "\n",
    "feature_names = vectorizer.get_feature_names_out()\n",
    "tfidf_scores = X_train.toarray()[0]\n",
    "tfidf_scores = list(zip(feature_names, tfidf_scores))\n",
    "\n",
    "tfidf_scores = sorted(tfidf_scores, key=lambda x: x[1], reverse=True)\n",
    "tfidf_scores[:10]"
   ]
  },
  {
   "cell_type": "markdown",
   "metadata": {},
   "source": [
    "Попробуем обучить несколько моделей с использованием полученных векторов.\n",
    "В ходе обучения стало понятно, что данных слишком мало для того, чтобы строить эффективные решающие деревья.\n",
    "KMeans плохо подходит из-за трудности пространственного представления векторов TFIDF.\n",
    "Лучше всего себя показала логистическая регрессия."
   ]
  },
  {
   "cell_type": "code",
   "execution_count": 56,
   "metadata": {},
   "outputs": [
    {
     "name": "stdout",
     "output_type": "stream",
     "text": [
      "MultinomialNB               precision    recall  f1-score   support\n",
      "\n",
      "           1       0.83      0.50      0.62        10\n",
      "           2       0.67      0.83      0.74        12\n",
      "           3       1.00      0.88      0.93         8\n",
      "           4       0.71      0.83      0.77         6\n",
      "           5       0.60      0.75      0.67         4\n",
      "\n",
      "    accuracy                           0.75        40\n",
      "   macro avg       0.76      0.76      0.75        40\n",
      "weighted avg       0.78      0.75      0.75        40\n",
      "\n",
      "F1 Score:  0.746994301994302\n"
     ]
    },
    {
     "data": {
      "image/png": "[encoded data removed]",
      "text/plain": [
       "<Figure size 800x600 with 2 Axes>"
      ]
     },
     "metadata": {},
     "output_type": "display_data"
    },
    {
     "name": "stdout",
     "output_type": "stream",
     "text": [
      "LogisticRegression               precision    recall  f1-score   support\n",
      "\n",
      "           1       0.83      0.50      0.62        10\n",
      "           2       0.79      0.92      0.85        12\n",
      "           3       1.00      0.88      0.93         8\n",
      "           4       0.71      0.83      0.77         6\n",
      "           5       0.50      0.75      0.60         4\n",
      "\n",
      "    accuracy                           0.78        40\n",
      "   macro avg       0.77      0.78      0.75        40\n",
      "weighted avg       0.80      0.78      0.77        40\n",
      "\n",
      "F1 Score:  0.7547435897435897\n"
     ]
    },
    {
     "data": {
      "image/png": "[encoded data removed]",
      "text/plain": [
       "<Figure size 800x600 with 2 Axes>"
      ]
     },
     "metadata": {},
     "output_type": "display_data"
    }
   ],
   "source": [
    "result_multinomial = MultinomialNB_Model(X_train, X_test, y_train, y_test)\n",
    "result_logistic = LogisticRegression_Model(X_train, X_test, y_train, y_test)\n",
    "#result_extra_trees = ExtraTreesClassifier_Model(X_train, X_test, y_train, y_test)\n",
    "#result_random_forest = RandomForestClassifier_Model(X_train, X_test, y_train, y_test)\n",
    "#result_kmeans = Kmeans_Model(X_train, X_test, y_train, y_test)"
   ]
  },
  {
   "cell_type": "markdown",
   "metadata": {},
   "source": [
    "### Word2Vec"
   ]
  },
  {
   "cell_type": "markdown",
   "metadata": {},
   "source": [
    "Попробуем использовать другой метод для построения векторов слов с надеждой, что он даст лучший результат на той же модели"
   ]
  },
  {
   "cell_type": "code",
   "execution_count": 52,
   "metadata": {},
   "outputs": [
    {
     "data": {
      "text/plain": [
       "['банк',\n",
       " 'карта',\n",
       " 'кредитный',\n",
       " 'ваш',\n",
       " 'мочь',\n",
       " 'какой',\n",
       " 'кредит',\n",
       " 'интернет',\n",
       " 'мой',\n",
       " 'узнать',\n",
       " 'хотеть',\n",
       " 'приложение',\n",
       " 'оформить',\n",
       " 'мобильный',\n",
       " 'получить',\n",
       " 'услуга',\n",
       " 'оплатить',\n",
       " 'делать',\n",
       " 'другой',\n",
       " 'баланс',\n",
       " 'счёт',\n",
       " 'документ',\n",
       " 'свой',\n",
       " 'перевод',\n",
       " 'онлайн',\n",
       " 'текущий',\n",
       " 'срок',\n",
       " 'страховка',\n",
       " 'деньга',\n",
       " 'действие',\n",
       " 'покупка',\n",
       " 'автомобиль',\n",
       " 'продлить',\n",
       " 'проверить',\n",
       " 'оплата',\n",
       " 'условие',\n",
       " 'нужный',\n",
       " 'комиссия',\n",
       " 'лимит',\n",
       " 'оформление',\n",
       " 'возможность',\n",
       " 'операция',\n",
       " 'коммунальный',\n",
       " 'предоставляться',\n",
       " 'помочь',\n",
       " 'взять',\n",
       " 'задолженность',\n",
       " 'сайт',\n",
       " 'ипотека',\n",
       " 'платёж',\n",
       " 'изменить',\n",
       " 'информация',\n",
       " 'страхование',\n",
       " 'сделать',\n",
       " 'найти',\n",
       " 'заблокировать',\n",
       " 'увеличить',\n",
       " 'иметься',\n",
       " 'доступ',\n",
       " 'погасить',\n",
       " 'банкомат',\n",
       " 'история',\n",
       " 'нужно',\n",
       " 'перевести',\n",
       " 'рассказать',\n",
       " 'это',\n",
       " 'рассрочка',\n",
       " 'получение',\n",
       " 'войти',\n",
       " 'заявка',\n",
       " 'автокредит',\n",
       " 'наличный',\n",
       " 'жильё',\n",
       " 'отказать',\n",
       " 'жизнь',\n",
       " 'рейтинг',\n",
       " 'способ',\n",
       " 'украсть',\n",
       " 'использование',\n",
       " 'подтверждение',\n",
       " 'окончание',\n",
       " 'льгота',\n",
       " 'статус',\n",
       " 'продукт',\n",
       " 'зарплатный',\n",
       " 'отправка',\n",
       " 'установить',\n",
       " 'меню',\n",
       " 'образ',\n",
       " 'совершить',\n",
       " 'штраф',\n",
       " 'почему',\n",
       " 'дебетовый',\n",
       " 'программа',\n",
       " 'акция',\n",
       " 'новый',\n",
       " 'товар',\n",
       " 'снятие',\n",
       " 'выдача',\n",
       " 'раздел',\n",
       " 'последний',\n",
       " 'телефон',\n",
       " 'жкх',\n",
       " 'банковский',\n",
       " 'ставка',\n",
       " 'просрочка',\n",
       " 'случай',\n",
       " 'вернуть',\n",
       " 'необходимый',\n",
       " 'закрыть',\n",
       " 'подробный',\n",
       " 'пополнить',\n",
       " 'потребительский',\n",
       " 'понимать',\n",
       " 'граница',\n",
       " 'помощь',\n",
       " 'овердрафт',\n",
       " 'истекать',\n",
       " 'бизнес',\n",
       " 'малое',\n",
       " 'потерять',\n",
       " 'осуществить',\n",
       " 'ошибка',\n",
       " 'подключение',\n",
       " 'доступный',\n",
       " 'время',\n",
       " 'персональный',\n",
       " 'лицо',\n",
       " 'пожалуйста',\n",
       " 'обслуживание',\n",
       " 'заказ',\n",
       " 'возникнуть',\n",
       " 'являться',\n",
       " 'процент',\n",
       " 'завершить',\n",
       " 'код',\n",
       " 'депозит',\n",
       " 'пин',\n",
       " 'образование',\n",
       " 'предлагать',\n",
       " 'магазин',\n",
       " 'престиж',\n",
       " 'действовать',\n",
       " 'дать',\n",
       " 'вовремя',\n",
       " 'родственник',\n",
       " 'сохранить',\n",
       " 'ресторан',\n",
       " 'низкий',\n",
       " 'город',\n",
       " 'подача',\n",
       " 'заплатить',\n",
       " 'требоваться',\n",
       " 'избежать',\n",
       " 'официальный',\n",
       " 'планировать',\n",
       " 'предоставлять',\n",
       " 'увеличиться',\n",
       " 'допустить',\n",
       " 'доставка',\n",
       " 'функция',\n",
       " 'служба',\n",
       " 'здоровье',\n",
       " 'ремонт',\n",
       " 'провести',\n",
       " 'имущество',\n",
       " 'номер',\n",
       " 'идентификационный',\n",
       " 'адрес',\n",
       " 'кредитка',\n",
       " 'потеря',\n",
       " 'сберегательный',\n",
       " 'отказаться',\n",
       " 'работа',\n",
       " 'временной',\n",
       " 'рубль',\n",
       " 'нетрудоспособность',\n",
       " '1000',\n",
       " 'берет',\n",
       " 'совершенный',\n",
       " 'существовать',\n",
       " 'юридически',\n",
       " 'доход',\n",
       " 'справка',\n",
       " 'запрос',\n",
       " 'пользоваться',\n",
       " 'держатель',\n",
       " 'бонусный',\n",
       " 'давать',\n",
       " 'процентный',\n",
       " 'порядок',\n",
       " 'односторонний',\n",
       " 'имя',\n",
       " 'непогашение',\n",
       " 'ответственный',\n",
       " 'несанкционированный',\n",
       " 'транзакция',\n",
       " 'подозрение',\n",
       " 'сменить',\n",
       " 'день',\n",
       " 'сегодняшний',\n",
       " 'вклад',\n",
       " 'информирование',\n",
       " 'sms',\n",
       " 'включать',\n",
       " 'смартфон',\n",
       " 'платёжный',\n",
       " 'сторонний',\n",
       " 'ограничение',\n",
       " 'платить',\n",
       " 'отклонить',\n",
       " 'строительство',\n",
       " 'дом',\n",
       " 'сканирование',\n",
       " 'обычный',\n",
       " 'срочный',\n",
       " 'отличие',\n",
       " 'утерять',\n",
       " 'писать',\n",
       " 'автоматический',\n",
       " 'настроить',\n",
       " 'выбор',\n",
       " 'хороший',\n",
       " 'бонус',\n",
       " 'человек',\n",
       " 'возмещение',\n",
       " 'знать',\n",
       " 'возврат',\n",
       " 'погашение',\n",
       " 'досрочный',\n",
       " 'проблема',\n",
       " 'посмотреть',\n",
       " 'близкий',\n",
       " 'введение',\n",
       " 'планироваться',\n",
       " 'пользователь',\n",
       " 'аутентификация',\n",
       " 'двухфакторный',\n",
       " 'премиум',\n",
       " 'связь',\n",
       " 'чековый',\n",
       " 'использовать',\n",
       " 'разобраться',\n",
       " 'нерезидент',\n",
       " 'необходимо',\n",
       " 'такой',\n",
       " 'обращение',\n",
       " 'книжка',\n",
       " 'активировать',\n",
       " 'месяц',\n",
       " 'вопрос',\n",
       " 'сервис',\n",
       " 'стриминговый',\n",
       " 'подписка',\n",
       " 'несчастный',\n",
       " 'недоступный',\n",
       " 'сервер',\n",
       " 'азс',\n",
       " 'правило',\n",
       " 'распечатка',\n",
       " 'нарушение',\n",
       " 'валюта',\n",
       " 'курс',\n",
       " 'поезд',\n",
       " 'билет',\n",
       " 'плохой',\n",
       " 'линия',\n",
       " 'открыть',\n",
       " 'работать',\n",
       " 'депозитный',\n",
       " 'собираться',\n",
       " 'лояльность',\n",
       " 'воспользоваться',\n",
       " 'предоставить',\n",
       " 'открытие',\n",
       " 'непогашенный',\n",
       " 'каков',\n",
       " 'предложение',\n",
       " 'специальный',\n",
       " 'возможно',\n",
       " 'который',\n",
       " 'руб',\n",
       " '000',\n",
       " '10',\n",
       " 'средство',\n",
       " 'занимать',\n",
       " 'сколько',\n",
       " 'выдавать',\n",
       " 'сумма',\n",
       " 'неактивный',\n",
       " 'взиматься',\n",
       " 'переоформить',\n",
       " 'клиент',\n",
       " 'купить',\n",
       " 'животное',\n",
       " 'проходить',\n",
       " 'термин',\n",
       " 'означать',\n",
       " 'рассматриваться',\n",
       " 'долго',\n",
       " 'предоставление',\n",
       " 'рефинансировать',\n",
       " 'друг',\n",
       " 'парковочный']"
      ]
     },
     "execution_count": 52,
     "metadata": {},
     "output_type": "execute_result"
    }
   ],
   "source": [
    "import gensim\n",
    "\n",
    "w2v_model = gensim.models.Word2Vec(full_prepared_data['lemmatized_tokens'], vector_size=100, window=5, min_count=1, workers=2)\n",
    "w2v_model.train(full_prepared_data['lemmatized_tokens'], total_examples=w2v_model.corpus_count, epochs=10)\n",
    "w2v_model.wv.index_to_key\n"
   ]
  },
  {
   "cell_type": "markdown",
   "metadata": {},
   "source": [
    "Теперь проверим эффективность нового векторного представления на прошлой модели"
   ]
  },
  {
   "cell_type": "code",
   "execution_count": 57,
   "metadata": {},
   "outputs": [
    {
     "name": "stdout",
     "output_type": "stream",
     "text": [
      "ExtraTreesClassifier               precision    recall  f1-score   support\n",
      "\n",
      "           1       0.43      0.30      0.35        10\n",
      "           2       0.70      0.58      0.64        12\n",
      "           3       0.78      0.88      0.82         8\n",
      "           4       0.38      0.50      0.43         6\n",
      "           5       0.33      0.50      0.40         4\n",
      "\n",
      "    accuracy                           0.55        40\n",
      "   macro avg       0.52      0.55      0.53        40\n",
      "weighted avg       0.56      0.55      0.55        40\n",
      "\n",
      "F1 Score:  0.5282811306340718\n"
     ]
    },
    {
     "data": {
      "image/png": "[encoded data removed]",
      "text/plain": [
       "<Figure size 800x600 with 2 Axes>"
      ]
     },
     "metadata": {},
     "output_type": "display_data"
    },
    {
     "name": "stderr",
     "output_type": "stream",
     "text": [
      "/root/.cache/pypoetry/virtualenvs/megaoplympai--lAllZs3-py3.10/lib/python3.10/site-packages/sklearn/metrics/_classification.py:1509: UndefinedMetricWarning: Precision is ill-defined and being set to 0.0 in labels with no predicted samples. Use `zero_division` parameter to control this behavior.\n",
      "  _warn_prf(average, modifier, f\"{metric.capitalize()} is\", len(result))\n",
      "/root/.cache/pypoetry/virtualenvs/megaoplympai--lAllZs3-py3.10/lib/python3.10/site-packages/sklearn/metrics/_classification.py:1509: UndefinedMetricWarning: Precision is ill-defined and being set to 0.0 in labels with no predicted samples. Use `zero_division` parameter to control this behavior.\n",
      "  _warn_prf(average, modifier, f\"{metric.capitalize()} is\", len(result))\n",
      "/root/.cache/pypoetry/virtualenvs/megaoplympai--lAllZs3-py3.10/lib/python3.10/site-packages/sklearn/metrics/_classification.py:1509: UndefinedMetricWarning: Precision is ill-defined and being set to 0.0 in labels with no predicted samples. Use `zero_division` parameter to control this behavior.\n",
      "  _warn_prf(average, modifier, f\"{metric.capitalize()} is\", len(result))\n"
     ]
    },
    {
     "name": "stdout",
     "output_type": "stream",
     "text": [
      "LogisticRegression               precision    recall  f1-score   support\n",
      "\n",
      "           1       0.00      0.00      0.00        10\n",
      "           2       0.00      0.00      0.00        12\n",
      "           3       0.00      0.00      0.00         8\n",
      "           4       0.15      1.00      0.26         6\n",
      "           5       0.00      0.00      0.00         4\n",
      "\n",
      "    accuracy                           0.15        40\n",
      "   macro avg       0.03      0.20      0.05        40\n",
      "weighted avg       0.02      0.15      0.04        40\n",
      "\n",
      "F1 Score:  0.05217391304347826\n"
     ]
    },
    {
     "data": {
      "image/png": "[encoded data removed]",
      "text/plain": [
       "<Figure size 800x600 with 2 Axes>"
      ]
     },
     "metadata": {},
     "output_type": "display_data"
    }
   ],
   "source": [
    "from sklearn.model_selection import train_test_split\n",
    "from sklearn.ensemble import ExtraTreesClassifier\n",
    "\n",
    "\n",
    "words = set(w2v_model.wv.index_to_key )\n",
    "\n",
    "X_vec = np.array([\n",
    "    np.mean([w2v_model.wv[i] for i in sentence if i in words], axis=0) \n",
    "    for sentence in full_prepared_data['lemmatized_tokens']\n",
    "])\n",
    "\n",
    "X_train_vec, X_test_vec, y_train, y_test = train_test_split(X_vec, full_prepared_data['label'], test_size=0.2, random_state=42)\n",
    "\n",
    "result_extra_trees = ExtraTreesClassifier_Model(X_train_vec, X_test_vec, y_train, y_test)\n",
    "result_logistic = LogisticRegression_Model(X_train_vec, X_test_vec, y_train, y_test)\n"
   ]
  },
  {
   "cell_type": "markdown",
   "metadata": {},
   "source": [
    "### Результат сравнения TFIDF и Word2Vec векторизации"
   ]
  },
  {
   "cell_type": "markdown",
   "metadata": {},
   "source": [
    "По итогу TFIDF на малых объемах данных оказывается лучше, чем Word2Vec. \n",
    "Также лучшей моделью на TFIDF оказалась логистическая регрессия, будем пытаться улучшить на ней Score"
   ]
  },
  {
   "cell_type": "markdown",
   "metadata": {},
   "source": [
    "### Получение результата"
   ]
  },
  {
   "cell_type": "markdown",
   "metadata": {},
   "source": [
    "Получим валидационные данные"
   ]
  },
  {
   "cell_type": "code",
   "execution_count": 26,
   "metadata": {},
   "outputs": [
    {
     "ename": "InvalidParameterError",
     "evalue": "The 'y_true' parameter of classification_report must be an array-like or a sparse matrix. Got None instead.",
     "output_type": "error",
     "traceback": [
      "\u001b[0;31m---------------------------------------------------------------------------\u001b[0m",
      "\u001b[0;31mInvalidParameterError\u001b[0m                     Traceback (most recent call last)",
      "Cell \u001b[0;32mIn[26], line 34\u001b[0m\n\u001b[1;32m     31\u001b[0m validate_data_processed[\u001b[38;5;124m'\u001b[39m\u001b[38;5;124mpredicted_label\u001b[39m\u001b[38;5;124m'\u001b[39m] \u001b[38;5;241m=\u001b[39m y_pred\n\u001b[1;32m     32\u001b[0m validate_data_processed[[\u001b[38;5;124m'\u001b[39m\u001b[38;5;124mtext\u001b[39m\u001b[38;5;124m'\u001b[39m, \u001b[38;5;124m'\u001b[39m\u001b[38;5;124mpredicted_label\u001b[39m\u001b[38;5;124m'\u001b[39m]]\u001b[38;5;241m.\u001b[39mto_csv(\u001b[38;5;124m'\u001b[39m\u001b[38;5;124mpredicted_labels.csv\u001b[39m\u001b[38;5;124m'\u001b[39m, index\u001b[38;5;241m=\u001b[39m\u001b[38;5;28;01mFalse\u001b[39;00m)\n\u001b[0;32m---> 34\u001b[0m \u001b[38;5;28mprint\u001b[39m(\u001b[43mclassification_report\u001b[49m\u001b[43m(\u001b[49m\u001b[43my_true\u001b[49m\u001b[38;5;241;43m=\u001b[39;49m\u001b[38;5;28;43;01mNone\u001b[39;49;00m\u001b[43m,\u001b[49m\u001b[43m \u001b[49m\u001b[43my_pred\u001b[49m\u001b[38;5;241;43m=\u001b[39;49m\u001b[43my_pred\u001b[49m\u001b[43m)\u001b[49m)\n",
      "File \u001b[0;32m~/.cache/pypoetry/virtualenvs/megaoplympai--lAllZs3-py3.10/lib/python3.10/site-packages/sklearn/utils/_param_validation.py:203\u001b[0m, in \u001b[0;36mvalidate_params.<locals>.decorator.<locals>.wrapper\u001b[0;34m(*args, **kwargs)\u001b[0m\n\u001b[1;32m    200\u001b[0m to_ignore \u001b[38;5;241m+\u001b[39m\u001b[38;5;241m=\u001b[39m [\u001b[38;5;124m\"\u001b[39m\u001b[38;5;124mself\u001b[39m\u001b[38;5;124m\"\u001b[39m, \u001b[38;5;124m\"\u001b[39m\u001b[38;5;124mcls\u001b[39m\u001b[38;5;124m\"\u001b[39m]\n\u001b[1;32m    201\u001b[0m params \u001b[38;5;241m=\u001b[39m {k: v \u001b[38;5;28;01mfor\u001b[39;00m k, v \u001b[38;5;129;01min\u001b[39;00m params\u001b[38;5;241m.\u001b[39marguments\u001b[38;5;241m.\u001b[39mitems() \u001b[38;5;28;01mif\u001b[39;00m k \u001b[38;5;129;01mnot\u001b[39;00m \u001b[38;5;129;01min\u001b[39;00m to_ignore}\n\u001b[0;32m--> 203\u001b[0m \u001b[43mvalidate_parameter_constraints\u001b[49m\u001b[43m(\u001b[49m\n\u001b[1;32m    204\u001b[0m \u001b[43m    \u001b[49m\u001b[43mparameter_constraints\u001b[49m\u001b[43m,\u001b[49m\u001b[43m \u001b[49m\u001b[43mparams\u001b[49m\u001b[43m,\u001b[49m\u001b[43m \u001b[49m\u001b[43mcaller_name\u001b[49m\u001b[38;5;241;43m=\u001b[39;49m\u001b[43mfunc\u001b[49m\u001b[38;5;241;43m.\u001b[39;49m\u001b[38;5;18;43m__qualname__\u001b[39;49m\n\u001b[1;32m    205\u001b[0m \u001b[43m\u001b[49m\u001b[43m)\u001b[49m\n\u001b[1;32m    207\u001b[0m \u001b[38;5;28;01mtry\u001b[39;00m:\n\u001b[1;32m    208\u001b[0m     \u001b[38;5;28;01mwith\u001b[39;00m config_context(\n\u001b[1;32m    209\u001b[0m         skip_parameter_validation\u001b[38;5;241m=\u001b[39m(\n\u001b[1;32m    210\u001b[0m             prefer_skip_nested_validation \u001b[38;5;129;01mor\u001b[39;00m global_skip_validation\n\u001b[1;32m    211\u001b[0m         )\n\u001b[1;32m    212\u001b[0m     ):\n",
      "File \u001b[0;32m~/.cache/pypoetry/virtualenvs/megaoplympai--lAllZs3-py3.10/lib/python3.10/site-packages/sklearn/utils/_param_validation.py:95\u001b[0m, in \u001b[0;36mvalidate_parameter_constraints\u001b[0;34m(parameter_constraints, params, caller_name)\u001b[0m\n\u001b[1;32m     89\u001b[0m \u001b[38;5;28;01melse\u001b[39;00m:\n\u001b[1;32m     90\u001b[0m     constraints_str \u001b[38;5;241m=\u001b[39m (\n\u001b[1;32m     91\u001b[0m         \u001b[38;5;124mf\u001b[39m\u001b[38;5;124m\"\u001b[39m\u001b[38;5;132;01m{\u001b[39;00m\u001b[38;5;124m'\u001b[39m\u001b[38;5;124m, \u001b[39m\u001b[38;5;124m'\u001b[39m\u001b[38;5;241m.\u001b[39mjoin([\u001b[38;5;28mstr\u001b[39m(c)\u001b[38;5;250m \u001b[39m\u001b[38;5;28;01mfor\u001b[39;00m\u001b[38;5;250m \u001b[39mc\u001b[38;5;250m \u001b[39m\u001b[38;5;129;01min\u001b[39;00m\u001b[38;5;250m \u001b[39mconstraints[:\u001b[38;5;241m-\u001b[39m\u001b[38;5;241m1\u001b[39m]])\u001b[38;5;132;01m}\u001b[39;00m\u001b[38;5;124m or\u001b[39m\u001b[38;5;124m\"\u001b[39m\n\u001b[1;32m     92\u001b[0m         \u001b[38;5;124mf\u001b[39m\u001b[38;5;124m\"\u001b[39m\u001b[38;5;124m \u001b[39m\u001b[38;5;132;01m{\u001b[39;00mconstraints[\u001b[38;5;241m-\u001b[39m\u001b[38;5;241m1\u001b[39m]\u001b[38;5;132;01m}\u001b[39;00m\u001b[38;5;124m\"\u001b[39m\n\u001b[1;32m     93\u001b[0m     )\n\u001b[0;32m---> 95\u001b[0m \u001b[38;5;28;01mraise\u001b[39;00m InvalidParameterError(\n\u001b[1;32m     96\u001b[0m     \u001b[38;5;124mf\u001b[39m\u001b[38;5;124m\"\u001b[39m\u001b[38;5;124mThe \u001b[39m\u001b[38;5;132;01m{\u001b[39;00mparam_name\u001b[38;5;132;01m!r}\u001b[39;00m\u001b[38;5;124m parameter of \u001b[39m\u001b[38;5;132;01m{\u001b[39;00mcaller_name\u001b[38;5;132;01m}\u001b[39;00m\u001b[38;5;124m must be\u001b[39m\u001b[38;5;124m\"\u001b[39m\n\u001b[1;32m     97\u001b[0m     \u001b[38;5;124mf\u001b[39m\u001b[38;5;124m\"\u001b[39m\u001b[38;5;124m \u001b[39m\u001b[38;5;132;01m{\u001b[39;00mconstraints_str\u001b[38;5;132;01m}\u001b[39;00m\u001b[38;5;124m. Got \u001b[39m\u001b[38;5;132;01m{\u001b[39;00mparam_val\u001b[38;5;132;01m!r}\u001b[39;00m\u001b[38;5;124m instead.\u001b[39m\u001b[38;5;124m\"\u001b[39m\n\u001b[1;32m     98\u001b[0m )\n",
      "\u001b[0;31mInvalidParameterError\u001b[0m: The 'y_true' parameter of classification_report must be an array-like or a sparse matrix. Got None instead."
     ]
    }
   ],
   "source": [
    "import pandas as pd\n",
    "from sklearn.feature_extraction.text import TfidfVectorizer\n",
    "from sklearn.linear_model import LogisticRegression\n",
    "from sklearn.metrics import classification_report\n",
    "\n",
    "\n",
    "test_data = pd.read_csv('../data/test_data.csv')\n",
    "validate_data = pd.read_csv('../data/validate.csv')\n",
    "\n",
    "\n",
    "test_data_processed = prepare_data_for_modeling(test_data)\n",
    "validate_data_processed = prepare_data_for_modeling(validate_data)\n",
    "\n",
    "vectorizer = TfidfVectorizer()\n",
    "\n",
    "train_text = test_data_processed['lemmatized'].apply(lambda x: ' '.join(x))\n",
    "validate_text = validate_data_processed['lemmatized'].apply(lambda x: ' '.join(x))\n",
    "combined_text = pd.concat([train_text, validate_text], ignore_index=True)\n",
    "\n",
    "X = vectorizer.fit_transform(combined_text)\n",
    "\n",
    "X_train = X[:len(train_text)]\n",
    "y_train = test_data_processed['label']\n",
    "\n",
    "model = LogisticRegression()\n",
    "model.fit(X_train, y_train)\n",
    "\n",
    "X_validate = X[len(train_text):]\n",
    "y_pred = model.predict(X_validate)\n",
    "\n",
    "validate_data_processed['predicted_label'] = y_pred\n",
    "validate_data_processed[['text', 'predicted_label']].to_csv('predicted_labels.csv', index=False)\n",
    "\n",
    "print(classification_report(y_true=None, y_pred=y_pred))\n"
   ]
  }
 ],
 "metadata": {
  "kernelspec": {
   "display_name": "megaoplympai--lAllZs3-py3.10",
   "language": "python",
   "name": "python3"
  },
  "language_info": {
   "codemirror_mode": {
    "name": "ipython",
    "version": 3
   },
   "file_extension": ".py",
   "mimetype": "text/x-python",
   "name": "python",
   "nbconvert_exporter": "python",
   "pygments_lexer": "ipython3",
   "version": "3.10.12"
  }
 },
 "nbformat": 4,
 "nbformat_minor": 2
}
